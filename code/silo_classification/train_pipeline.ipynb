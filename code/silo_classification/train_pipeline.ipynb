{
 "cells": [
  {
   "cell_type": "code",
   "execution_count": 4,
   "metadata": {},
   "outputs": [],
   "source": [
    "import time\n",
    "import multiprocessing\n",
    "from pathlib import Path\n",
    "\n",
    "from torch.utils.data import DataLoader\n",
    "from utils.dataset import *\n",
    "from utils.train import *\n",
    "from utils.utils import *\n",
    "from models.cnn import *"
   ]
  },
  {
   "cell_type": "code",
   "execution_count": null,
   "metadata": {},
   "outputs": [],
   "source": [
    "model_architecture = CNNModel"
   ]
  },
  {
   "cell_type": "code",
   "execution_count": 5,
   "metadata": {},
   "outputs": [],
   "source": [
    "dest_dir = '../../../ai_ready/images/'  #\n",
    "dest_path = Path(dest_dir)\n",
    "label = '../../../ai_ready/x-ai_data.csv'\n",
    "model_state_path = './saved_models/pretrained.pth'\n",
    "\n",
    "BATCH_SIZE = 32\n",
    "NUM_WORKERS = multiprocessing.cpu_count()\n",
    "device = 'cuda' if torch.cuda.is_available() else 'cpu'\n"
   ]
  },
  {
   "cell_type": "code",
   "execution_count": 6,
   "metadata": {},
   "outputs": [],
   "source": [
    "model = model_architecture().to(device)\n",
    "a\n",
    "data_transform = transforms.Compose([\n",
    "    transforms.RandomVerticalFlip(p=0.5), # p = probability of flip, 0.5 = 50% chance\n",
    "    transforms.RandomHorizontalFlip(p=0.5), # p = probability of flip, 0.5 = 50% chance\n",
    "    # transforms.RandomRotation(), \n",
    "    transforms.ToTensor() # this also converts all pixel values from 0 to 255 to be between 0.0 and 1.0 \n",
    "])\n",
    "\n",
    "train_dataset = SilosImage(dest_path, label, val=False, transform=data_transform)\n",
    "val_dataset = SilosImage(dest_path, label, val=True, transform=data_transform)\n",
    "\n",
    "\n",
    "\n",
    "\n",
    "train_dataloader = DataLoader(dataset=train_dataset,\n",
    "                              batch_size=BATCH_SIZE,\n",
    "                              num_workers=NUM_WORKERS,\n",
    "                              shuffle=True)\n",
    "\n",
    "val_dataloader = DataLoader(dataset=val_dataset,\n",
    "                            batch_size=BATCH_SIZE,\n",
    "                            num_workers=NUM_WORKERS,\n",
    "                            shuffle=True)\n",
    "\n",
    "\n",
    "loss_fn = torch.nn.BCEWithLogitsLoss()\n",
    "optimizer = torch.optim.Adam(model.parameters(), lr=0.001)\n"
   ]
  },
  {
   "cell_type": "code",
   "execution_count": 7,
   "metadata": {},
   "outputs": [
    {
     "name": "stderr",
     "output_type": "stream",
     "text": [
      " 50%|█████     | 1/2 [00:51<00:51, 51.38s/it]"
     ]
    },
    {
     "name": "stdout",
     "output_type": "stream",
     "text": [
      "Epoch: 1 | train_loss: 0.6945 | train_acc: 0.5835 | test_loss: 0.6536 | test_acc: 0.6957\n"
     ]
    },
    {
     "name": "stderr",
     "output_type": "stream",
     "text": [
      "100%|██████████| 2/2 [01:42<00:00, 51.16s/it]"
     ]
    },
    {
     "name": "stdout",
     "output_type": "stream",
     "text": [
      "Epoch: 2 | train_loss: 0.6588 | train_acc: 0.6843 | test_loss: 0.6423 | test_acc: 0.6945\n"
     ]
    },
    {
     "name": "stderr",
     "output_type": "stream",
     "text": [
      "\n"
     ]
    },
    {
     "data": {
      "text/plain": [
       "{'train_loss': [0.6944659352302551, 0.6587957143783569],\n",
       " 'train_auc': [0.5834664179436956, 0.6843105793338682],\n",
       " 'test_loss': [0.6536394953727722, 0.6423413157463074],\n",
       " 'test_auc': [0.6956773618538324, 0.6945127241179874]}"
      ]
     },
     "execution_count": 7,
     "metadata": {},
     "output_type": "execute_result"
    }
   ],
   "source": [
    "train(model=model, \n",
    "          train_dataloader=train_dataloader,\n",
    "          test_dataloader=val_dataloader,\n",
    "          loss_fn=loss_fn,\n",
    "          optimizer=optimizer,\n",
    "          epochs=2)"
   ]
  },
  {
   "cell_type": "code",
   "execution_count": 8,
   "metadata": {},
   "outputs": [
    {
     "name": "stdout",
     "output_type": "stream",
     "text": [
      "[INFO] Saving model to: save_models\\cnn1670422660.415604.pth\n"
     ]
    }
   ],
   "source": [
    "model_name = 'cnn_' + str(time.time()) + '.pth'\n",
    "save_model(model, 'saved_models', model_name)"
   ]
  }
 ],
 "metadata": {
  "kernelspec": {
   "display_name": "Python 3.9.13 ('py39')",
   "language": "python",
   "name": "python3"
  },
  "language_info": {
   "codemirror_mode": {
    "name": "ipython",
    "version": 3
   },
   "file_extension": ".py",
   "mimetype": "text/x-python",
   "name": "python",
   "nbconvert_exporter": "python",
   "pygments_lexer": "ipython3",
   "version": "3.9.13"
  },
  "orig_nbformat": 4,
  "vscode": {
   "interpreter": {
    "hash": "ed1ec613b8ddf3486b8fd921a11371633a03ed59ac5570d40f738b13c3828418"
   }
  }
 },
 "nbformat": 4,
 "nbformat_minor": 2
}
